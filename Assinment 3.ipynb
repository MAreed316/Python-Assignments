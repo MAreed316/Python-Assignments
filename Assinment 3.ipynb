{
 "cells": [
  {
   "cell_type": "code",
   "execution_count": 1,
   "metadata": {},
   "outputs": [
    {
     "name": "stdout",
     "output_type": "stream",
     "text": [
      "********************************************\n",
      "ENTER FIRST NUMBER : 7\n",
      "ENTER OPERATOR '+','-','*','/','**' : **\n",
      "ENTER SECOND VALUE : 2\n",
      "********************************************\n",
      "POWER OF TWO NUMBERS IS : 49\n",
      "********************************************\n"
     ]
    }
   ],
   "source": [
    "#Program 1:Make a calculator using Python with addition , subtraction , multiplication ,division and power\n",
    "print(\"********************************************\")\n",
    "v1 = int(input(\"ENTER FIRST NUMBER : \"))\n",
    "opt = input(\"ENTER OPERATOR '+','-','*','/','**' : \")\n",
    "v2 = int(input(\"ENTER SECOND VALUE : \"))\n",
    "print(\"********************************************\")\n",
    "\n",
    "if opt == '+':\n",
    "    add = v1+v2\n",
    "    print(\"ADDITION OF TWO NUMBERS IS :\",add)\n",
    "    print(\"********************************************\")\n",
    "elif opt == '-':\n",
    "    sub = v1-v2\n",
    "    print(\"SUBTRACTION OF TWO NUMBERS IS :\",sub)\n",
    "    print(\"********************************************\")\n",
    "elif opt == '*':\n",
    "    mul = v1*v2\n",
    "    print(\"MULTIPLICATION OF TWO NUMBERS IS :\",mul)\n",
    "    print(\"********************************************\")\n",
    "elif opt == '/':\n",
    "    div = v1/v2\n",
    "    print(\"DIVISION OF TWO NUMBERS IS :\",div)\n",
    "    print(\"********************************************\")\n",
    "elif opt == '**':\n",
    "    pwr = v1**v2\n",
    "    print(\"POWER OF TWO NUMBERS IS :\",pwr)\n",
    "    print(\"********************************************\")\n",
    "else:\n",
    "    print(\"WRONG INPUT\")\n",
    "    print(\"********************************************\")\n"
   ]
  },
  {
   "cell_type": "code",
   "execution_count": 16,
   "metadata": {},
   "outputs": [
    {
     "name": "stdout",
     "output_type": "stream",
     "text": [
      "YES\n"
     ]
    }
   ],
   "source": [
    "#Program 2:Write a program to check if there is any numeric value in list using for loop\n",
    "def isNumber(s) : \n",
    "    for i in range(len(s)) : \n",
    "        if s[i].isdigit() != True : \n",
    "            return False\n",
    "  \n",
    "    return True\n",
    "if __name__ == \"__main__\" : \n",
    "  \n",
    "    str  = \"6790\"\n",
    "  \n",
    "    if isNumber(str) : \n",
    "        print(\"YES\") \n",
    "  \n",
    "    else : \n",
    "        print(\"NO\")\n",
    "\n",
    "    "
   ]
  },
  {
   "cell_type": "code",
   "execution_count": 18,
   "metadata": {},
   "outputs": [
    {
     "name": "stdout",
     "output_type": "stream",
     "text": [
      "{0: 50, 1: 60}\n",
      "{0: 50, 1: 60, 2: 70}\n"
     ]
    }
   ],
   "source": [
    "#Program 3:Write a Python script to add a key to a dictionary\n",
    "a = {0:50, 1:60}\n",
    "print(a)\n",
    "a.update({2:70})\n",
    "print(a)"
   ]
  },
  {
   "cell_type": "code",
   "execution_count": 21,
   "metadata": {},
   "outputs": [
    {
     "name": "stdout",
     "output_type": "stream",
     "text": [
      "SUM OF ALL ITEMS IS : 439\n"
     ]
    }
   ],
   "source": [
    "#Program 4:Write a Python program to sum all the numeric items in a dictionary\n",
    "dic = {'Value1':300,'Value2':40,'Value3':99}\n",
    "print(\"SUM OF ALL ITEMS IS :\",sum(dic.values()))"
   ]
  },
  {
   "cell_type": "code",
   "execution_count": 30,
   "metadata": {},
   "outputs": [
    {
     "name": "stdout",
     "output_type": "stream",
     "text": [
      "DUPLICATE VALUES ARE : [3, 30]\n"
     ]
    }
   ],
   "source": [
    "#Program 5:Write a program to identify duplicate values from list\n",
    "list = [6, 3, 30, 3, 30, 15, 9, 45, 36, 1, 12]\n",
    "dupli = []\n",
    "unique = {}\n",
    "for x in list:\n",
    "   if x not in unique:\n",
    "      unique[x] = 1\n",
    "   else:\n",
    "      if unique[x] == 1:\n",
    "         dupli.append(x)\n",
    "      unique[x] += 1\n",
    "print(\"DUPLICATE VALUES ARE :\",dupli)"
   ]
  },
  {
   "cell_type": "code",
   "execution_count": 49,
   "metadata": {},
   "outputs": [
    {
     "name": "stdout",
     "output_type": "stream",
     "text": [
      "ENTER KEY TO CHECK:C\n",
      "KEY IS PRESENT AND VALUE OF KEY IS: 10\n"
     ]
    }
   ],
   "source": [
    "#Program 6:Write a Python script to check if a given key already exists in a dictionary\n",
    "val = {'A':8,'B':9,'C':10}\n",
    "key = input(\"ENTER KEY TO CHECK:\")\n",
    "if key in val.keys():\n",
    "      print(\"KEY IS PRESENT AND VALUE OF KEY IS:\",val[key])\n",
    "else:\n",
    "      print(\"KEY IS NOT PRESENT!\")\n"
   ]
  }
 ],
 "metadata": {
  "kernelspec": {
   "display_name": "Python 3",
   "language": "python",
   "name": "python3"
  },
  "language_info": {
   "codemirror_mode": {
    "name": "ipython",
    "version": 3
   },
   "file_extension": ".py",
   "mimetype": "text/x-python",
   "name": "python",
   "nbconvert_exporter": "python",
   "pygments_lexer": "ipython3",
   "version": "3.7.4"
  }
 },
 "nbformat": 4,
 "nbformat_minor": 2
}
