{
 "cells": [
  {
   "cell_type": "code",
   "execution_count": 4,
   "metadata": {},
   "outputs": [
    {
     "name": "stdout",
     "output_type": "stream",
     "text": [
      "ENTER MATHS MARKS : 90\n",
      "ENTER ENGLISH MARKS : 90\n",
      "ENTER URDU MARKS : 90\n",
      "ENTER ISLAMIAT MARKS : 90\n",
      "ENTER PHYSICS MARKS : 90\n",
      "TOTAL MARKS : 450\n",
      "PERCENTAGE : 90.0\n",
      "GRADE : A\n"
     ]
    }
   ],
   "source": [
    "#Program 1\n",
    "m = int(input(\"ENTER MATHS MARKS : \"))\n",
    "e = int(input(\"ENTER ENGLISH MARKS : \"))\n",
    "u = int(input(\"ENTER URDU MARKS : \"))\n",
    "i = int(input(\"ENTER ISLAMIAT MARKS : \"))\n",
    "p = int(input(\"ENTER PHYSICS MARKS : \"))\n",
    "total = m + e + u + i + p\n",
    "print(\"TOTAL MARKS :\",total)\n",
    "per = (total*100)/500\n",
    "print(\"PERCENTAGE :\",per)\n",
    "if per >= 88 and per <= 100:\n",
    " print(\"GRADE : A\")\n",
    "elif per >= 75 and per < 88:\n",
    " print(\"GRADE : B+\")\n",
    "elif per >= 65 and per < 75:\n",
    " print(\"GRADE : B\")\n",
    "elif per >= 50 and per < 65:\n",
    " print(\"GRADE : C+\")\n",
    "elif per >= 40 and per < 50:\n",
    " print(\"GRADE : C\")\n",
    "elif per >= 0 and per < 40:\n",
    " print(\"GRADE : FAIL\")\n",
    "else:\n",
    " print(\"WRONG INPUT\")\n",
    "    "
   ]
  },
  {
   "cell_type": "code",
   "execution_count": 15,
   "metadata": {},
   "outputs": [
    {
     "name": "stdout",
     "output_type": "stream",
     "text": [
      "ENTER ANY NUMBER:6\n",
      "6 IS EVEN\n"
     ]
    }
   ],
   "source": [
    "#Program 2\n",
    "num = int(input(\"ENTER ANY NUMBER:\"))\n",
    "if (n%2) == 0:\n",
    " print(\"{0} IS EVEN\".format(n))\n",
    "elif (n%2) != 0:\n",
    " print(\"{0} IS ODD\".format(n))\n",
    "else:\n",
    " print(\"WRONG INPUT!!\")"
   ]
  },
  {
   "cell_type": "code",
   "execution_count": 18,
   "metadata": {},
   "outputs": [
    {
     "name": "stdout",
     "output_type": "stream",
     "text": [
      "THE LENGTH OF LIST IS  : 3\n"
     ]
    }
   ],
   "source": [
    "#program 3\n",
    "num1 = len([\"sami\",\"ali\",\"ayan\"])\n",
    "print(\"THE LENGTH OF LIST IS  :\",num1)"
   ]
  },
  {
   "cell_type": "code",
   "execution_count": 29,
   "metadata": {},
   "outputs": [
    {
     "name": "stdout",
     "output_type": "stream",
     "text": [
      "SUM OF THE LIST IS : 60\n"
     ]
    }
   ],
   "source": [
    "#program 4\n",
    "num2 = sum([10,20,30])\n",
    "print(\"SUM OF THE LIST IS :\",num2)"
   ]
  },
  {
   "cell_type": "code",
   "execution_count": 32,
   "metadata": {},
   "outputs": [
    {
     "name": "stdout",
     "output_type": "stream",
     "text": [
      "SUM OF THE LIST IS : 100\n"
     ]
    }
   ],
   "source": [
    "#program 5\n",
    "num3 = max([10,20,30,5,100])\n",
    "print(\"SUM OF THE LIST IS :\",num3)"
   ]
  },
  {
   "cell_type": "code",
   "execution_count": 44,
   "metadata": {},
   "outputs": [
    {
     "name": "stdout",
     "output_type": "stream",
     "text": [
      "[1, 1, 2, 3]\n"
     ]
    }
   ],
   "source": [
    "#program 6\n",
    "a = [1, 1, 2, 3, 5, 8, 13, 21, 34, 55, 89]\n",
    "arr = []\n",
    "for i in a:\n",
    " if i < 5:\n",
    "  arr.append(i)\n",
    "print(arr)"
   ]
  },
  {
   "cell_type": "code",
   "execution_count": null,
   "metadata": {},
   "outputs": [],
   "source": []
  }
 ],
 "metadata": {
  "kernelspec": {
   "display_name": "Python 3",
   "language": "python",
   "name": "python3"
  },
  "language_info": {
   "codemirror_mode": {
    "name": "ipython",
    "version": 3
   },
   "file_extension": ".py",
   "mimetype": "text/x-python",
   "name": "python",
   "nbconvert_exporter": "python",
   "pygments_lexer": "ipython3",
   "version": "3.7.4"
  }
 },
 "nbformat": 4,
 "nbformat_minor": 2
}
